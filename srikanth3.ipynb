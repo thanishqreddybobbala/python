{
 "cells": [
  {
   "cell_type": "code",
   "execution_count": 1,
   "metadata": {},
   "outputs": [
    {
     "name": "stdout",
     "output_type": "stream",
     "text": [
      "True\n",
      "True\n"
     ]
    }
   ],
   "source": [
    "s='python is easy programming to learn and interesting'\n",
    "s1=\"python\"\n",
    "print(s.islower())\n",
    "print(s1.islower())"
   ]
  },
  {
   "cell_type": "code",
   "execution_count": 2,
   "metadata": {},
   "outputs": [
    {
     "name": "stdout",
     "output_type": "stream",
     "text": [
      "False\n",
      "True\n"
     ]
    }
   ],
   "source": [
    "s=\"Application\"\n",
    "s1=\"ANIL\"\n",
    "print(s.isupper())\n",
    "print(s1.isupper())\n"
   ]
  },
  {
   "cell_type": "code",
   "execution_count": 3,
   "metadata": {},
   "outputs": [
    {
     "name": "stdout",
     "output_type": "stream",
     "text": [
      "True\n",
      "False\n"
     ]
    }
   ],
   "source": [
    "s=\"Application\"\n",
    "s1=\"App1889\"\n",
    "print(s.isalpha())\n",
    "print(s1.isalpha())"
   ]
  },
  {
   "cell_type": "code",
   "execution_count": 4,
   "metadata": {},
   "outputs": [
    {
     "name": "stdout",
     "output_type": "stream",
     "text": [
      "True\n",
      "False\n"
     ]
    }
   ],
   "source": [
    "s=\"5678\"\n",
    "s1=\"App1889\"\n",
    "print(s.isnumeric())\n",
    "print(s1.isnumeric())"
   ]
  },
  {
   "cell_type": "code",
   "execution_count": 9,
   "metadata": {},
   "outputs": [
    {
     "name": "stdout",
     "output_type": "stream",
     "text": [
      "False\n",
      "True\n"
     ]
    }
   ],
   "source": [
    "s=\"Python programming\"\n",
    "s1=\"Python Programming\"\n",
    "print(s.istitle())\n",
    "print(s1.istitle())"
   ]
  },
  {
   "cell_type": "code",
   "execution_count": 13,
   "metadata": {},
   "outputs": [
    {
     "name": "stdout",
     "output_type": "stream",
     "text": [
      "False\n",
      "True\n"
     ]
    }
   ],
   "source": [
    "s=\"Py th  !on\"\n",
    "s1=\"    \"\n",
    "print(s.isspace())\n",
    "print(s1.isspace())"
   ]
  },
  {
   "cell_type": "code",
   "execution_count": 17,
   "metadata": {},
   "outputs": [
    {
     "name": "stdout",
     "output_type": "stream",
     "text": [
      ",\n"
     ]
    }
   ],
   "source": [
    "lst=[\"\",\"\"]\n",
    "print(\",\".join(lst))"
   ]
  },
  {
   "cell_type": "code",
   "execution_count": 21,
   "metadata": {},
   "outputs": [
    {
     "name": "stdout",
     "output_type": "stream",
     "text": [
      "['python,', 'programming', ',is', ',easy,', 'to', ',learn']\n",
      "['python, progr', 'mming ,is ,e', 'sy, to ,le', 'rn']\n",
      "['python', ' programming ', 'is ', 'easy', ' to ', 'learn']\n"
     ]
    }
   ],
   "source": [
    "s=\"python, programming ,is ,easy, to ,learn\"\n",
    "print(s.split())\n",
    "print(s.split(\"a\"))\n",
    "print(s.split(\",\"))"
   ]
  },
  {
   "cell_type": "code",
   "execution_count": 23,
   "metadata": {},
   "outputs": [
    {
     "name": "stdout",
     "output_type": "stream",
     "text": [
      "['python', 'programming', 'is', 'easy', 'to', 'learn']\n",
      "2\n"
     ]
    }
   ],
   "source": [
    "s=\"python programming is easy to learn\"\n",
    "lst=s.split()\n",
    "print(lst)\n",
    "print(lst.index(\"is\"))"
   ]
  },
  {
   "cell_type": "code",
   "execution_count": 24,
   "metadata": {},
   "outputs": [
    {
     "name": "stdout",
     "output_type": "stream",
     "text": [
      "['p', 'y', 't', 'h', 'o', 'n', ' ', 'p', 'r', 'o', 'g', 'r', 'a', 'm', 'm', 'i', 'n', 'g', ' ', 'i', 's', ' ', 'e', 'a', 's', 'y', ' ', 't', 'o', ' ', 'l', 'e', 'a', 'r', 'n']\n"
     ]
    }
   ],
   "source": [
    "s=\"python programming is easy to learn\"\n",
    "lst=list(s)\n",
    "print(lst)\n"
   ]
  },
  {
   "cell_type": "code",
   "execution_count": 25,
   "metadata": {},
   "outputs": [
    {
     "name": "stdout",
     "output_type": "stream",
     "text": [
      "python proapplicationmming\n"
     ]
    }
   ],
   "source": [
    "s=\"python programming\"\n",
    "print(s.replace(\"gra\",\"application\"))"
   ]
  },
  {
   "cell_type": "code",
   "execution_count": 26,
   "metadata": {},
   "outputs": [
    {
     "name": "stdout",
     "output_type": "stream",
     "text": [
      "['Python', 'Programming', '1989', '2019', 'Machine', 'learning', 'Al']\n",
      "(1, 2, 3, 4, 5)\n"
     ]
    }
   ],
   "source": [
    " t1 = [\"Python\",\"Programming\",\"1989\",\"2019\",\"Machine\",\"learning\",\"Al\"]\n",
    "t2 = (1,2,3,4,5)\n",
    "print(t1)\n",
    "print(t2)"
   ]
  },
  {
   "cell_type": "code",
   "execution_count": 27,
   "metadata": {},
   "outputs": [
    {
     "name": "stdout",
     "output_type": "stream",
     "text": [
      "t1[0]) =  Python\n",
      "t1[2]) =  1989\n",
      "t1[-1]) =  Al\n",
      "t1[1:4]) =  ['Programming', '1989', '2019']\n",
      "t1[2:-2]) =  ['1989', '2019', 'Machine']\n"
     ]
    }
   ],
   "source": [
    "t1 = [\"Python\",\"Programming\",\"1989\",\"2019\",\"Machine\",\"learning\",\"Al\"]\n",
    "print(\"t1[0]) = \",t1[0])\n",
    "print(\"t1[2]) = \",t1[2])\n",
    "print(\"t1[-1]) = \",t1[-1])\n",
    "print(\"t1[1:4]) = \",t1[1:4])\n",
    "print(\"t1[2:-2]) = \",t1[2:-2])\n"
   ]
  },
  {
   "cell_type": "code",
   "execution_count": 28,
   "metadata": {},
   "outputs": [
    {
     "name": "stdout",
     "output_type": "stream",
     "text": [
      "user1[Name] = Anil\n",
      "user1[Age] = 29\n",
      "user1[EmailID]= anil@gmail.com\n",
      "user1[Mobil Number]= 93258147374\n"
     ]
    }
   ],
   "source": [
    "user1 = {'Name':'Anil','Age':'29','EmailID':'anil@gmail.com','Mobile Number':'93258147374'}\n",
    "print(\"user1[Name] =\",user1['Name'])\n",
    "print(\"user1[Age] =\",user1['Age'])\n",
    "print(\"user1[EmailID]=\",user1['EmailID'])\n",
    "print(\"user1[Mobil Number]=\",user1['Mobile Number'])    "
   ]
  },
  {
   "cell_type": "code",
   "execution_count": 30,
   "metadata": {},
   "outputs": [
    {
     "name": "stdout",
     "output_type": "stream",
     "text": [
      "{'Name': 'Anil', 'Age': '29', 'EmailID': 'anil@gmail.com', 'Mobile Number': '93258147374'}\n",
      "{'Name': 'Anil', 'Age': '29', 'EmailID': 'anil@gmail.com', 'Mobile Number': '93258147374'}\n",
      "{'Name': 'Anil', 'Age': '29', 'EmailID': 'anil@gmail.com', 'Mobile Number': '93258147374', 'adress': 'hyderabad'}\n",
      "{'Name': 'Anil', 'Age': '29', 'EmailID': 'anil@gmail.com', 'Mobile Number': '93258147374'}\n"
     ]
    }
   ],
   "source": [
    "user1 = {'Name':'Anil','Age':'29','EmailID':'anil@gmail.com','Mobile Number':'93258147374'}\n",
    "user2=user1.copy()\n",
    "print(user1)\n",
    "print(user2)\n",
    "user1['adress']='hyderabad'\n",
    "print(user1)\n",
    "print(user2)"
   ]
  },
  {
   "cell_type": "code",
   "execution_count": 32,
   "metadata": {},
   "outputs": [
    {
     "name": "stdout",
     "output_type": "stream",
     "text": [
      "dict_values(['Anil', '29', 'anil@gmail.com', '93258147374'])\n",
      "dict_values(['Anil', '29', 'anil@gmail.com', '93258147374'])\n"
     ]
    }
   ],
   "source": [
    "user1 = {'Name':'Anil','Age':'29','EmailID':'anil@gmail.com','Mobile Number':'93258147374'}\n",
    "user2=user1.copy()\n",
    "print(user1.values())\n",
    "print(user2.values())"
   ]
  },
  {
   "cell_type": "code",
   "execution_count": 35,
   "metadata": {},
   "outputs": [
    {
     "name": "stdout",
     "output_type": "stream",
     "text": [
      "python programming\n"
     ]
    }
   ],
   "source": [
    "lst=['python','programming']\n",
    "print(\"%s %s\"%(lst[0],lst[1]))"
   ]
  },
  {
   "cell_type": "code",
   "execution_count": 35,
   "metadata": {},
   "outputs": [
    {
     "name": "stdout",
     "output_type": "stream",
     "text": [
      "contact Anil added\n",
      "contact harsha added\n",
      "contact %s already exists\n"
     ]
    }
   ],
   "source": [
    "contacts={}\n",
    "def addcontact(name,phone):\n",
    "    if name not in contacts:\n",
    "        contacts[name]=phone\n",
    "        print(\"contact %s added\" % name)\n",
    "    else:\n",
    "        print(\"contact %s already exists\")\n",
    "    return\n",
    "addcontact(\"Anil\",95137521)\n",
    "addcontact(\"harsha\",996633221)\n",
    "addcontact(\"Anil\",9988774466)"
   ]
  },
  {
   "cell_type": "code",
   "execution_count": 36,
   "metadata": {},
   "outputs": [
    {
     "name": "stdout",
     "output_type": "stream",
     "text": [
      "Anil : 95137521\n",
      "Ajay does not exists\n",
      "harsha : 996633221\n",
      "kranth does not exists\n"
     ]
    }
   ],
   "source": [
    "def searchcontact(name):\n",
    "    if name in contacts:\n",
    "        print(name,\":\",contacts[name])\n",
    "    else:\n",
    "        print(\"%s does not exists\"% name)\n",
    "    return\n",
    "searchcontact(\"Anil\")\n",
    "searchcontact(\"Ajay\")\n",
    "searchcontact(\"harsha\")\n",
    "searchcontact(\"kranth\")\n",
    "\n"
   ]
  },
  {
   "cell_type": "code",
   "execution_count": 39,
   "metadata": {},
   "outputs": [
    {
     "name": "stdout",
     "output_type": "stream",
     "text": [
      "2 contacts added successfully\n",
      "{'harsha': 996633221, 'Dinesh': 9955112233, 'Ajay': 86878712}\n"
     ]
    }
   ],
   "source": [
    "def importcontacts(newcontacts):\n",
    "    contacts.update(newcontacts)\n",
    "    print(len(newcontacts.keys()),\"contacts added successfully\")\n",
    "    return contacts\n",
    "newcontacts={'Dinesh':9955112233,'Ajay':86878712}\n",
    "importcontacts(newcontacts)\n",
    "print(contacts)"
   ]
  },
  {
   "cell_type": "code",
   "execution_count": 43,
   "metadata": {},
   "outputs": [
    {
     "name": "stdout",
     "output_type": "stream",
     "text": [
      "Anil is not exists in the contacts\n",
      "naveen is not exists in the contacts\n",
      "{'harsha': 742987289, 'Dinesh': 9955112233, 'Ajay': 86878712}\n"
     ]
    }
   ],
   "source": [
    "def deletecontacts(name):\n",
    "    if name in contacts:\n",
    "        del contacts[name]\n",
    "        print(name,\"is deleted from the contacts\")\n",
    "    else:\n",
    "        print(name,\"is not exists in the contacts\")\n",
    "    return\n",
    "deletecontacts(\"Anil\")\n",
    "deletecontacts(\"naveen\")\n",
    "print(contacts)"
   ]
  },
  {
   "cell_type": "code",
   "execution_count": 44,
   "metadata": {},
   "outputs": [
    {
     "name": "stdout",
     "output_type": "stream",
     "text": [
      "Anil not exists in the contacts\n",
      "harsha updated with new phone number\n",
      "{'harsha': 742987289, 'Dinesh': 9955112233, 'Ajay': 86878712}\n"
     ]
    }
   ],
   "source": [
    "def updatecontacts(name,phone):\n",
    "    if name in contacts:\n",
    "        contacts[name]=phone\n",
    "        print(name,\"updated with new phone number\")\n",
    "    else:\n",
    "        print(name,\"not exists in the contacts\")\n",
    "    return\n",
    "updatecontacts(\"Anil\",974987498)\n",
    "updatecontacts(\"harsha\",742987289)\n",
    "print(contacts)"
   ]
  },
  {
   "cell_type": "code",
   "execution_count": 50,
   "metadata": {},
   "outputs": [
    {
     "name": "stdout",
     "output_type": "stream",
     "text": [
      "1 2 3 4\n"
     ]
    }
   ],
   "source": [
    "lst=[1,2,3,4]\n",
    "print(\"%d %d %d %d\"%(lst[0],lst[1],lst[2],lst[3]))"
   ]
  },
  {
   "cell_type": "code",
   "execution_count": null,
   "metadata": {},
   "outputs": [],
   "source": []
  }
 ],
 "metadata": {
  "kernelspec": {
   "display_name": "Python 3",
   "language": "python",
   "name": "python3"
  },
  "language_info": {
   "codemirror_mode": {
    "name": "ipython",
    "version": 3
   },
   "file_extension": ".py",
   "mimetype": "text/x-python",
   "name": "python",
   "nbconvert_exporter": "python",
   "pygments_lexer": "ipython3",
   "version": "3.7.3"
  }
 },
 "nbformat": 4,
 "nbformat_minor": 2
}
