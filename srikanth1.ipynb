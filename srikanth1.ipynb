{
 "cells": [
  {
   "cell_type": "code",
   "execution_count": 14,
   "metadata": {},
   "outputs": [
    {
     "name": "stdout",
     "output_type": "stream",
     "text": [
      "0\n",
      "1\n",
      "2\n",
      "3\n",
      "4\n",
      "5\n",
      "6\n",
      "7\n",
      "8\n",
      "9\n",
      "10\n",
      "11\n",
      "12\n",
      "13\n",
      "14\n",
      "15\n",
      "16\n",
      "17\n",
      "18\n",
      "19\n",
      "90\n"
     ]
    }
   ],
   "source": [
    "\n",
    "def printeven(n):\n",
    "    cnt=0;\n",
    "    sum=0;\n",
    "    while(cnt!=n):\n",
    "        print(cnt);\n",
    "        if(cnt%2==0):\n",
    "            sum = sum + cnt;\n",
    "        cnt = cnt + 1;  \n",
    "    return sum;\n",
    "\n",
    "print(printeven(20));"
   ]
  },
  {
   "cell_type": "code",
   "execution_count": 16,
   "metadata": {},
   "outputs": [
    {
     "name": "stdout",
     "output_type": "stream",
     "text": [
      "1 2 3 4 6 "
     ]
    }
   ],
   "source": [
    "def factorslist(n):\n",
    "    i=1;\n",
    "    while(i!=n):\n",
    "        if(n%i==0):\n",
    "            print(i,end=\" \");\n",
    "        i=i+1;\n",
    "    return;\n",
    "\n",
    "factorslist(12);"
   ]
  },
  {
   "cell_type": "code",
   "execution_count": null,
   "metadata": {},
   "outputs": [],
   "source": [
    " list1=[1,2,3,4,5,6];\n",
    "#entire list1\n",
    "print(list1);\n",
    " #list[0]\n",
    "print(list1[0]);"
   ]
  },
  {
   "cell_type": "code",
   "execution_count": 25,
   "metadata": {},
   "outputs": [
    {
     "name": "stdout",
     "output_type": "stream",
     "text": [
      "Akhil arvind anil akash "
     ]
    }
   ],
   "source": [
    "list2 = [\"Akhil\",\"arvind\",\"anil\",\"akash\"];\n",
    "for x in list2:\n",
    "    print(x,end=\" \"); "
   ]
  },
  {
   "cell_type": "code",
   "execution_count": 30,
   "metadata": {},
   "outputs": [
    {
     "name": "stdout",
     "output_type": "stream",
     "text": [
      "1 2 3 4 5 6 7 \n",
      "5\n",
      "[4, 5, 6, 7]\n",
      "[1, 2, 3]\n",
      "[1, 2, 3]\n",
      "[1, 2, 3, 4, 5, 6, 7]\n"
     ]
    }
   ],
   "source": [
    "list1=[1,2,3,4,5,6,7];\n",
    "for x in list1:\n",
    "    print(x,end=\" \");\n",
    "print();\n",
    "print(list1[4]);\n",
    "print(list1[3:7]);\n",
    "print(list1[0:3]);\n",
    "print(list1[:3]);\n",
    "print(list1[:7]);"
   ]
  },
  {
   "cell_type": "code",
   "execution_count": 47,
   "metadata": {
    "scrolled": false
   },
   "outputs": [
    {
     "name": "stdout",
     "output_type": "stream",
     "text": [
      "1 2 3 4 5 6 7 8 9 10 \n",
      "[2, 3, 4, 5, 6, 7, 8, 9]\n",
      "[3, 4, 5, 6, 7, 8]\n",
      "[1, 3, 5, 7, 9]\n",
      "[1, 4, 7, 10]\n",
      "[1, 5, 9]\n",
      "[10, 8, 6, 4, 2]\n",
      "10\n",
      "9\n"
     ]
    }
   ],
   "source": [
    "list1=[1,2,3,4,5,6,7,8,9,10];\n",
    "for x in list1:\n",
    "    print(x,end=\" \")\n",
    "print();\n",
    "print(list1[1:-1]);\n",
    "print(list1[2:-2]);\n",
    "print(list1[::2]);\n",
    "print(list1[::3]);\n",
    "print(list1[::4]);\n",
    "print(list1[::-2]);\n",
    "print(list1[-1]);\n",
    "print(list1[-2]);"
   ]
  },
  {
   "cell_type": "code",
   "execution_count": 56,
   "metadata": {},
   "outputs": [
    {
     "name": "stdout",
     "output_type": "stream",
     "text": [
      "['anil', 'adarsh', 'akhil', 1]\n",
      "['anil', 'adarsh', 15, 1]\n",
      "['anil', 'adarsh', 15]\n",
      "['anil', 'Gitam', 15]\n",
      "[1, 2, 3]\n",
      "['anil', 'Gitam', 15, 1, 2, 3]\n"
     ]
    }
   ],
   "source": [
    "list1=[\"anil\",\"adarsh\",\"akhil\",1];\n",
    "print(list1);\n",
    "list1[2] = 15;\n",
    "print(list1);\n",
    "del list1[3];\n",
    "print(list1);  \n",
    "list1[1]=\"Gitam\";\n",
    "print(list1);\n",
    "list2=[1,2,3];\n",
    "print(list2);\n",
    "print(list1+list2);\n"
   ]
  },
  {
   "cell_type": "code",
   "execution_count": 58,
   "metadata": {},
   "outputs": [
    {
     "name": "stdout",
     "output_type": "stream",
     "text": [
      "[1, 2, 3, 4, 5]\n",
      "[1, 2, 4, 5]\n",
      "4\n",
      "[1, 2, 4, 5, 150]\n"
     ]
    }
   ],
   "source": [
    "list1=[1,2,3,4,5]\n",
    "print(list1);\n",
    "del list1[2];\n",
    "print(list1);\n",
    "print(len(list1));\n",
    "list1.append(150);\n",
    "print(list1);"
   ]
  },
  {
   "cell_type": "code",
   "execution_count": 66,
   "metadata": {},
   "outputs": [
    {
     "name": "stdout",
     "output_type": "stream",
     "text": [
      "['gitam', 'python', 'raptor', 1, 5, 'python', 'python']\n",
      "7\n",
      "['gitam', 'python', 2019, 'raptor', 1, 5, 'python', 'python']\n",
      "8\n",
      "['gitam', 'python', 2019, 'raptor', 2020, 1, 5, 'python', 'python']\n",
      "9\n"
     ]
    }
   ],
   "source": [
    "list1=[\"gitam\",\"python\",\"raptor\",1,5,\"python\",\"python\"];\n",
    "print(list1)\n",
    "list1.index(\"python\")\n",
    "list1.index(1)\n",
    "print(len(list1))\n",
    "list1.insert(2,2019)\n",
    "print(list1)\n",
    "print(len(list1))\n",
    "list1.insert(4,2020)\n",
    "print(list1)\n",
    "print(len(list1))"
   ]
  },
  {
   "cell_type": "code",
   "execution_count": 68,
   "metadata": {},
   "outputs": [
    {
     "name": "stdout",
     "output_type": "stream",
     "text": [
      "['gitam', 'python', 'raptor', 1, 5, 'python', 'python']\n",
      "['gitam', 'raptor', 1, 5, 'python', 'python']\n",
      "['gitam', 'raptor', 1, 5, 'python']\n"
     ]
    }
   ],
   "source": [
    "list1=[\"gitam\",\"python\",\"raptor\",1,5,\"python\",\"python\"];\n",
    "print(list1)\n",
    "list1.remove(\"python\")\n",
    "print(list1)\n",
    "list1.remove(\"python\")\n",
    "print(list1)"
   ]
  },
  {
   "cell_type": "code",
   "execution_count": 5,
   "metadata": {},
   "outputs": [
    {
     "name": "stdout",
     "output_type": "stream",
     "text": [
      "traget item is found\n",
      "traget item is not found\n"
     ]
    }
   ],
   "source": [
    "def linearsearch(a,taritem):\n",
    "    flag=0;\n",
    "    for i in range(len(a)):\n",
    "        if a[i]==taritem:\n",
    "            flag=1;\n",
    "            break\n",
    "    if(flag!=0):\n",
    "        print(\"traget item is found\")\n",
    "    else:\n",
    "         print(\"traget item is not found\")\n",
    "a=[16,2,12,6,9,7,1]\n",
    "linearsearch(a,2)\n",
    "linearsearch(a,61)"
   ]
  },
  {
   "cell_type": "code",
   "execution_count": 9,
   "metadata": {},
   "outputs": [
    {
     "name": "stdout",
     "output_type": "stream",
     "text": [
      "2\n"
     ]
    }
   ],
   "source": [
    "def linearsearchduplicate(a,taritem):\n",
    "    flag=0\n",
    "    for i in range(len(a)):\n",
    "        if a[i]==taritem:\n",
    "            flag=flag + 1\n",
    "         \n",
    "    print(flag)\n",
    "a=[9,1,6,1,5,9,15,16]\n",
    "linearsearchduplicate(a,9)"
   ]
  },
  {
   "cell_type": "code",
   "execution_count": null,
   "metadata": {},
   "outputs": [],
   "source": []
  }
 ],
 "metadata": {
  "kernelspec": {
   "display_name": "Python 3",
   "language": "python",
   "name": "python3"
  },
  "language_info": {
   "codemirror_mode": {
    "name": "ipython",
    "version": 3
   },
   "file_extension": ".py",
   "mimetype": "text/x-python",
   "name": "python",
   "nbconvert_exporter": "python",
   "pygments_lexer": "ipython3",
   "version": "3.7.3"
  }
 },
 "nbformat": 4,
 "nbformat_minor": 2
}
